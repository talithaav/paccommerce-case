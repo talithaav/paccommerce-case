{
 "cells": [
  {
   "cell_type": "code",
   "execution_count": 140,
   "id": "6eb9d7f2-4358-4efc-bddf-3c77a38a2991",
   "metadata": {
    "tags": []
   },
   "outputs": [],
   "source": [
    "# import library\n",
    "from tabulate import tabulate\n",
    "from math import sqrt"
   ]
  },
  {
   "cell_type": "code",
   "execution_count": 142,
   "id": "9d7a3b65-9620-4abb-ba4b-43e108d68972",
   "metadata": {
    "tags": []
   },
   "outputs": [],
   "source": [
    "class Membership:\n",
    "    \n",
    "    # insert dummy data\n",
    "    data = {'Sumbul': 'Platinum', 'Ana': 'Gold', 'Cahya': 'Platinum'}\n",
    "    \n",
    "    def __init__(self, username):\n",
    "        self.username = username\n",
    "        \n",
    "    def show_benefit(self):\n",
    "        \"\"\"\n",
    "        Function to show all PacCommerce Membership Benefit Table.\n",
    "        \"\"\"\n",
    "        headers = ['Membership', 'Discount', 'Another Benefit']\n",
    "        \n",
    "        table = [['Platinum', '15%', 'Benefit Silver + Gold + Voucher Liburan + Cashback max. 30%'],\n",
    "                 ['Gold', '10%', 'Benefit Silver + Voucher Ojek Online'],\n",
    "                 ['Silver', '8%', 'Voucher Makanan']]\n",
    "        \n",
    "        print('Benefit Membership PacCommerce\\n')\n",
    "        print(tabulate(table, headers=headers, tablefmt='fancy_grid', stralign=\"center\"))\n",
    "        \n",
    "    def show_requirements(self):\n",
    "        \"\"\"\n",
    "        Function to show all Requirements Membership PacCommerce Table.\n",
    "        \"\"\"\n",
    "        headers = ['Membership', 'Monthly Expense (juta)', 'Monthly Income (juta)']\n",
    "        \n",
    "        table = [['Platinum', 8, 15],\n",
    "                 ['Gold', 6, 10],\n",
    "                 ['Silver', 5, 7]]\n",
    "        \n",
    "        print('Requirements Membership PacCommerce\\n')\n",
    "        print(tabulate(table, headers=headers, tablefmt='fancy_grid', stralign=\"center\"))\n",
    "        \n",
    "    def predict_membership(self, username, monthly_expense, monthly_income):\n",
    "        \"\"\"\n",
    "        Function to predict user's membership based on their monthly expense and monthly income by using Euclidean Distance approach.\n",
    "        \n",
    "        Parameters\n",
    "        ----------\n",
    "        username: string\n",
    "            input username\n",
    "        monthly_expense: int\n",
    "            expenses spent by users every month\n",
    "        monthly income: int\n",
    "            income earned by users every month\n",
    "        \"\"\"\n",
    "        memb_parameter = [[8, 15], [6, 10], [5,7]]\n",
    "        \n",
    "        result = []\n",
    "        for idx, _ in enumerate(memb_parameter):\n",
    "            euclidean = round(sqrt((monthly_expense - memb_parameter[idx][0])**2 + \\\n",
    "                                   (monthly_income - memb_parameter[idx][1])**2), 2)\n",
    "            \n",
    "            result.append(euclidean)\n",
    "            \n",
    "        result_dict = {'Platinum' : result[0],\n",
    "                       'Gold' : result[1],\n",
    "                       'Silver' : result[2]}\n",
    "        \n",
    "        print(f\"Hasil perhitungan Euclidean Distance dari user {username} adalah {result_dict}\")\n",
    "        \n",
    "        for member, distance in result_dict.items():\n",
    "            if distance == min(result):\n",
    "                self.data[username] = member\n",
    "                \n",
    "                print(f\"Membership yang sesuai untuk user {username} adalah: {member}\")\n",
    "    \n",
    "    def calculate_price(self, username, list_harga):\n",
    "        \"\"\"\n",
    "        Function to calculate the final price for user's spending after discounts based on membership.\n",
    "        \n",
    "        Parameters\n",
    "        ----------\n",
    "        username: string\n",
    "            input username\n",
    "        list_harga: list\n",
    "            list of price for each spending\n",
    "            \n",
    "        Return\n",
    "        ------\n",
    "        final_price: float\n",
    "            final price after discount\n",
    "        \"\"\"\n",
    "        try:\n",
    "            if username in self.data:\n",
    "                membership = self.data.get(username)\n",
    "                \n",
    "                if membership == 'Platinum':\n",
    "                    final_price = sum(list_harga) - (sum(list_harga) * 0.15)\n",
    "                    \n",
    "                    return final_price\n",
    "                elif membership == 'Gold':\n",
    "                    final_price = sum(list_harga) - (sum(list_harga) * 0.10)\n",
    "                    \n",
    "                    return final_price\n",
    "                elif membership == 'Silver':\n",
    "                    final_price = sum(list_harga) - (sum(list_harga) * 0.08)\n",
    "                    \n",
    "                    return final_price\n",
    "                else:\n",
    "                    raise Exception(\"Membership invalid\")\n",
    "            else:\n",
    "                raise Exception(\"Username does not exist\")\n",
    "        except:\n",
    "            raise Exception(\"Process Invalid\")"
   ]
  },
  {
   "cell_type": "code",
   "execution_count": 143,
   "id": "1afad5ad-3976-4dc3-b43c-6960608f3e0a",
   "metadata": {
    "tags": []
   },
   "outputs": [
    {
     "name": "stdout",
     "output_type": "stream",
     "text": [
      "Benefit Membership PacCommerce\n",
      "\n",
      "╒══════════════╤════════════╤═════════════════════════════════════════════════════════════╕\n",
      "│  Membership  │  Discount  │                       Another Benefit                       │\n",
      "╞══════════════╪════════════╪═════════════════════════════════════════════════════════════╡\n",
      "│   Platinum   │    15%     │ Benefit Silver + Gold + Voucher Liburan + Cashback max. 30% │\n",
      "├──────────────┼────────────┼─────────────────────────────────────────────────────────────┤\n",
      "│     Gold     │    10%     │            Benefit Silver + Voucher Ojek Online             │\n",
      "├──────────────┼────────────┼─────────────────────────────────────────────────────────────┤\n",
      "│    Silver    │     8%     │                       Voucher Makanan                       │\n",
      "╘══════════════╧════════════╧═════════════════════════════════════════════════════════════╛\n"
     ]
    }
   ],
   "source": [
    "user_1 = Membership('Shandy')\n",
    "user_1.show_benefit()"
   ]
  },
  {
   "cell_type": "code",
   "execution_count": 144,
   "id": "35bf3edd-1816-4b49-a68c-afc63917ef06",
   "metadata": {
    "tags": []
   },
   "outputs": [
    {
     "name": "stdout",
     "output_type": "stream",
     "text": [
      "Requirements Membership PacCommerce\n",
      "\n",
      "╒══════════════╤══════════════════════════╤═════════════════════════╕\n",
      "│  Membership  │   Monthly Expense (juta) │   Monthly Income (juta) │\n",
      "╞══════════════╪══════════════════════════╪═════════════════════════╡\n",
      "│   Platinum   │                        8 │                      15 │\n",
      "├──────────────┼──────────────────────────┼─────────────────────────┤\n",
      "│     Gold     │                        6 │                      10 │\n",
      "├──────────────┼──────────────────────────┼─────────────────────────┤\n",
      "│    Silver    │                        5 │                       7 │\n",
      "╘══════════════╧══════════════════════════╧═════════════════════════╛\n"
     ]
    }
   ],
   "source": [
    "user_1.show_requirements()"
   ]
  },
  {
   "cell_type": "code",
   "execution_count": 145,
   "id": "c9027c8a-a72b-472b-8f89-0d40e56cfc5d",
   "metadata": {
    "tags": []
   },
   "outputs": [
    {
     "name": "stdout",
     "output_type": "stream",
     "text": [
      "Hasil perhitungan Euclidean Distance dari user Shandy adalah {'Platinum': 3.16, 'Gold': 3.61, 'Silver': 6.4}\n",
      "Membership yang sesuai untuk user Shandy adalah: Platinum\n"
     ]
    }
   ],
   "source": [
    "user_1.predict_membership(user_1.username, 9, 12)"
   ]
  },
  {
   "cell_type": "code",
   "execution_count": 146,
   "id": "eee7b6fe-72ae-4c56-9ca8-85a9a6ddebe0",
   "metadata": {
    "tags": []
   },
   "outputs": [
    {
     "data": {
      "text/plain": [
       "{'Sumbul': 'Platinum',\n",
       " 'Ana': 'Gold',\n",
       " 'Cahya': 'Platinum',\n",
       " 'Shandy': 'Platinum'}"
      ]
     },
     "execution_count": 146,
     "metadata": {},
     "output_type": "execute_result"
    }
   ],
   "source": [
    "user_1.data"
   ]
  },
  {
   "cell_type": "code",
   "execution_count": 147,
   "id": "1735ae7b-27da-46ac-bb62-307f4be2e41e",
   "metadata": {
    "tags": []
   },
   "outputs": [
    {
     "data": {
      "text/plain": [
       "637500.0"
      ]
     },
     "execution_count": 147,
     "metadata": {},
     "output_type": "execute_result"
    }
   ],
   "source": [
    "harga_barang = [150_000, 200_000, 400_000]\n",
    "\n",
    "user_1.calculate_price(username = user_1.username, list_harga = harga_barang)"
   ]
  },
  {
   "cell_type": "code",
   "execution_count": 148,
   "id": "8935a64c-2206-4206-93c5-35f576d70675",
   "metadata": {
    "tags": []
   },
   "outputs": [
    {
     "name": "stdout",
     "output_type": "stream",
     "text": [
      "Benefit Membership PacCommerce\n",
      "\n",
      "╒══════════════╤════════════╤═════════════════════════════════════════════════════════════╕\n",
      "│  Membership  │  Discount  │                       Another Benefit                       │\n",
      "╞══════════════╪════════════╪═════════════════════════════════════════════════════════════╡\n",
      "│   Platinum   │    15%     │ Benefit Silver + Gold + Voucher Liburan + Cashback max. 30% │\n",
      "├──────────────┼────────────┼─────────────────────────────────────────────────────────────┤\n",
      "│     Gold     │    10%     │            Benefit Silver + Voucher Ojek Online             │\n",
      "├──────────────┼────────────┼─────────────────────────────────────────────────────────────┤\n",
      "│    Silver    │     8%     │                       Voucher Makanan                       │\n",
      "╘══════════════╧════════════╧═════════════════════════════════════════════════════════════╛\n",
      "Requirements Membership PacCommerce\n",
      "\n",
      "╒══════════════╤══════════════════════════╤═════════════════════════╕\n",
      "│  Membership  │   Monthly Expense (juta) │   Monthly Income (juta) │\n",
      "╞══════════════╪══════════════════════════╪═════════════════════════╡\n",
      "│   Platinum   │                        8 │                      15 │\n",
      "├──────────────┼──────────────────────────┼─────────────────────────┤\n",
      "│     Gold     │                        6 │                      10 │\n",
      "├──────────────┼──────────────────────────┼─────────────────────────┤\n",
      "│    Silver    │                        5 │                       7 │\n",
      "╘══════════════╧══════════════════════════╧═════════════════════════╛\n",
      "Hasil perhitungan Euclidean Distance dari user Bambang adalah {'Platinum': 12.08, 'Gold': 6.71, 'Silver': 3.61}\n",
      "Membership yang sesuai untuk user Bambang adalah: Silver\n"
     ]
    },
    {
     "data": {
      "text/plain": [
       "1577800.0"
      ]
     },
     "execution_count": 148,
     "metadata": {},
     "output_type": "execute_result"
    }
   ],
   "source": [
    "user_2 = Membership(\"Bambang\")\n",
    "user_2.username\n",
    "user_2.show_benefit()\n",
    "user_2.show_requirements()\n",
    "user_2.predict_membership(user_2.username, 3, 4)\n",
    "\n",
    "list_price = [300_000, 150_000, 1_250_000, 15_000]\n",
    "user_2.calculate_price(user_2.username, list_price)"
   ]
  }
 ],
 "metadata": {
  "kernelspec": {
   "display_name": "Python 3 (ipykernel)",
   "language": "python",
   "name": "python3"
  },
  "language_info": {
   "codemirror_mode": {
    "name": "ipython",
    "version": 3
   },
   "file_extension": ".py",
   "mimetype": "text/x-python",
   "name": "python",
   "nbconvert_exporter": "python",
   "pygments_lexer": "ipython3",
   "version": "3.11.5"
  }
 },
 "nbformat": 4,
 "nbformat_minor": 5
}
